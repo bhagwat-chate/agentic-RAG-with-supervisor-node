{
 "cells": [
  {
   "cell_type": "markdown",
   "id": "9245ae36",
   "metadata": {},
   "source": [
    "add description"
   ]
  },
  {
   "cell_type": "code",
   "execution_count": 216,
   "id": "bfc4c3cd",
   "metadata": {},
   "outputs": [],
   "source": [
    "import warnings\n",
    "warnings.filterwarnings('ignore')\n",
    "\n",
    "import os\n",
    "from dotenv import load_dotenv\n",
    "load_dotenv()\n",
    "\n",
    "import re\n",
    "from typing import Dict\n",
    "import pprint\n",
    "from langchain import hub\n",
    "from langchain.document_loaders import PyPDFLoader\n",
    "from langchain_core.documents import Document\n",
    "from langchain.prompts import PromptTemplate\n",
    "from langchain_text_splitters import RecursiveCharacterTextSplitter\n",
    "from langchain_google_genai import GoogleGenerativeAIEmbeddings\n",
    "from langchain_google_genai import ChatGoogleGenerativeAI\n",
    "from langchain_core.output_parsers import StrOutputParser\n",
    "from langchain_core.runnables import RunnablePassthrough\n",
    "from pydantic import BaseModel, Field\n",
    "from langchain.output_parsers import PydanticOutputParser\n",
    "from langchain_community.tools import DuckDuckGoSearchRun\n",
    "from IPython.display import Image, display\n",
    "from langchain_core.messages import HumanMessage\n",
    "from langchain_core.messages import SystemMessage, AIMessage\n",
    "\n",
    "import pinecone  # Official Pinecone SDK to create/manage index\n",
    "from pinecone import ServerlessSpec\n",
    "from langchain_pinecone import PineconeVectorStore\n",
    "from langgraph.graph import START, END, StateGraph\n",
    "import operator\n",
    "from typing_extensions import TypedDict, Annotated\n",
    "from typing import Sequence\n",
    "from langchain_core.messages import BaseMessage\n",
    "\n",
    "from sklearn.metrics.pairwise import cosine_similarity\n",
    "from sklearn.metrics.pairwise import euclidean_distances\n",
    "\n",
    "os.environ['GOOGLE_API_KEY'] = os.getenv('GOOGLE_API_KEY')\n",
    "PINECONE_API_KEY=os.getenv('PINECONE_API_KEY')\n",
    "PINECONE_INDEX_ENVIRONMENT=os.getenv('PINECONE_INDEX_ENVIRONMENT')\n",
    "PINECONE_CLOUD = os.getenv('PINECONE_CLOUD')\n",
    "PINECONE_INDEX_NAME = os.getenv('PINECONE_INDEX_NAME')"
   ]
  },
  {
   "cell_type": "code",
   "execution_count": 217,
   "id": "fbabd2d0",
   "metadata": {},
   "outputs": [],
   "source": [
    "loader = PyPDFLoader('../data/agentic-ai-system.pdf')\n",
    "corpus = loader.load()"
   ]
  },
  {
   "cell_type": "code",
   "execution_count": 218,
   "id": "d2c596c7",
   "metadata": {},
   "outputs": [
    {
     "data": {
      "text/plain": [
       "288"
      ]
     },
     "execution_count": 218,
     "metadata": {},
     "output_type": "execute_result"
    }
   ],
   "source": [
    "len(corpus)"
   ]
  },
  {
   "cell_type": "code",
   "execution_count": 219,
   "id": "f62912c7",
   "metadata": {},
   "outputs": [
    {
     "data": {
      "text/plain": [
       "Document(metadata={'producer': 'Adobe PDF Library 17.0; modified using iText® 5.5.13 ©2000-2018 iText Group NV (AGPL-version)', 'creator': 'Adobe InDesign 18.5 (Windows)(Foxit Advanced PDF Editor)', 'creationdate': '2025-04-01T12:11:31+05:30', 'icnappname': 'Foxit Advanced PDF Editor', 'icnappplatform': 'Windows', 'icnappversion': '3.05', 'moddate': 'D:20250424033741', 'trapped': '/False', 'source': '../data/agentic-ai-system.pdf', 'total_pages': 288, 'page': 0, 'page_label': 'i'}, page_content='')"
      ]
     },
     "execution_count": 219,
     "metadata": {},
     "output_type": "execute_result"
    }
   ],
   "source": [
    "corpus[0]"
   ]
  },
  {
   "cell_type": "markdown",
   "id": "bc7e6890",
   "metadata": {},
   "source": [
    "Document(metadata={'producer': 'Adobe PDF Library 17.0; modified using iText® 5.5.13 ©2000-2018 iText Group NV (AGPL-version)', 'creator': 'Adobe InDesign 18.5 (Windows)(Foxit Advanced PDF Editor)', 'creationdate': '2025-04-01T12:11:31+05:30', 'icnappname': 'Foxit Advanced PDF Editor', 'icnappplatform': 'Windows', 'icnappversion': '3.05', 'moddate': 'D:20250424033741', 'trapped': '/False', 'source': '../data/agentic-ai-system.pdf', 'total_pages': 288, 'page': 0, 'page_label': 'i'}, page_content='')"
   ]
  },
  {
   "cell_type": "code",
   "execution_count": 220,
   "id": "63ecc163",
   "metadata": {},
   "outputs": [],
   "source": [
    "corpus = corpus[12:]"
   ]
  },
  {
   "cell_type": "code",
   "execution_count": 221,
   "id": "13400de4",
   "metadata": {},
   "outputs": [
    {
     "data": {
      "text/plain": [
       "276"
      ]
     },
     "execution_count": 221,
     "metadata": {},
     "output_type": "execute_result"
    }
   ],
   "source": [
    "len(corpus)"
   ]
  },
  {
   "cell_type": "code",
   "execution_count": 222,
   "id": "1215909a",
   "metadata": {},
   "outputs": [
    {
     "data": {
      "text/plain": [
       "Document(metadata={'producer': 'Adobe PDF Library 17.0; modified using iText® 5.5.13 ©2000-2018 iText Group NV (AGPL-version)', 'creator': 'Adobe InDesign 18.5 (Windows)(Foxit Advanced PDF Editor)', 'creationdate': '2025-04-01T12:11:31+05:30', 'icnappname': 'Foxit Advanced PDF Editor', 'icnappplatform': 'Windows', 'icnappversion': '3.05', 'moddate': 'D:20250424033741', 'trapped': '/False', 'source': '../data/agentic-ai-system.pdf', 'total_pages': 288, 'page': 123, 'page_label': '99'}, page_content='Use cases and examples 99\\nserve user needs. In addition to content analysis, reflective chatbots can also assess the effectiveness \\nof their communication styles and language usage. By analyzing user feedback and reactions, they can \\ndetermine which tones, wordings, or levels of formality resonate better with different user groups or \\ncontexts. This insight can then inform the chatbot’s ability to adapt its communication style dynamically, \\nfostering more natural and personalized interactions.\\nMoreover, self-assessment can help chatbots identify knowledge gaps or areas where their understanding \\nis limited. By recognizing instances where they struggle to provide satisfactory responses, chatbots can \\nproactively seek out additional information or consult with human experts to expand their knowledge \\nbase and improve their ability to handle a wider range of queries effectively.\\nSoftware companies such as Zendesk and Drift use AI-powered chatbots that learn from conversations. \\nThese chatbots monitor ratings and comments made by users regarding their satisfaction levels. By \\nreflecting on this feedback, the chatbots can better develop responses and improve their ability to \\nprovide satisfactory solutions in the future. For instance, if a chatbot notices that users frequently \\nexpress frustration or dissatisfaction with its responses on a particular topic, it can analyze those \\nconversations, identify patterns or gaps in its knowledge, and refine its response strategies accordingly. \\nAdditionally, the chatbot could learn to adapt its tone, language, and communication style based on \\nuser preferences and feedback, fostering a more natural and personalized interaction experience.\\nPersonal marketing agents\\nPersonalized marketing also makes use of reflective agents. Reflective agents analyze consumer behavior \\nand feedback for successful marketing strategies. They mull over the successes and failures of past \\ncampaigns to make adjustments based on key performance metrics for upcoming ones.\\nFor example, Amazon uses reflective AI agents that implement studying customer buying trends and \\nreviews to suggest identical products. These continue to learn with the users, thereby perfecting the \\nsuggestions and the parameters for marketing to ensure better sales and customer interaction.\\nPersonalized marketing has become increasingly crucial in today’s competitive business landscape, \\nand reflective agents play a pivotal role in delivering tailored and effective marketing strategies. These \\nagents leverage self-assessment and introspection to analyze consumer behavior, feedback, and the \\nsuccess or failure of past campaigns, enabling them to continuously refine and optimize their marketing \\napproaches. At the core of reflective personal marketing agents is their ability to collect and analyze \\nvast amounts of data on consumer behavior, preferences, and interactions. By studying patterns in \\npurchasing decisions, browsing histories, reviews, and engagement metrics, these agents can gain insights \\ninto what resonates with different consumer segments and what factors drive purchasing decisions.\\nThe key aspect of reflection in personal marketing agents is their ability to evaluate the success or \\nfailure of past marketing campaigns. These agents can analyze key performance indicators (KPIs) \\nsuch as click-through rates, conversion rates, and customer acquisition costs, and correlate them \\nwith the specific strategies, messaging, and targeting employed in each campaign. By introspecting \\non these metrics, the agents can identify which approaches were most effective and which ones fell \\nshort, enabling them to make data-driven adjustments for future campaigns.')"
      ]
     },
     "execution_count": 222,
     "metadata": {},
     "output_type": "execute_result"
    }
   ],
   "source": [
    "corpus[111]"
   ]
  },
  {
   "cell_type": "code",
   "execution_count": 223,
   "id": "901f7bb9",
   "metadata": {},
   "outputs": [
    {
     "data": {
      "text/plain": [
       "list"
      ]
     },
     "execution_count": 223,
     "metadata": {},
     "output_type": "execute_result"
    }
   ],
   "source": [
    "type(corpus)"
   ]
  },
  {
   "cell_type": "code",
   "execution_count": 224,
   "id": "8eea1ff5",
   "metadata": {},
   "outputs": [],
   "source": [
    "my_text = ''\n",
    "for page in corpus:\n",
    "    my_text = my_text + page.page_content"
   ]
  },
  {
   "cell_type": "code",
   "execution_count": 225,
   "id": "e6019386",
   "metadata": {},
   "outputs": [],
   "source": [
    "text_spliter = RecursiveCharacterTextSplitter(chunk_size=200, chunk_overlap=50)\n",
    "\n",
    "splitted_text = text_spliter.split_text(text=my_text)"
   ]
  },
  {
   "cell_type": "code",
   "execution_count": 226,
   "id": "e4026c6a",
   "metadata": {},
   "outputs": [
    {
     "data": {
      "text/plain": [
       "list"
      ]
     },
     "execution_count": 226,
     "metadata": {},
     "output_type": "execute_result"
    }
   ],
   "source": [
    "type(splitted_text)"
   ]
  },
  {
   "cell_type": "code",
   "execution_count": 227,
   "id": "60051b3d",
   "metadata": {},
   "outputs": [
    {
     "data": {
      "text/plain": [
       "['Types of generative AI models 4\\nV AEs 5\\nGANs 6\\nAutoregressive models and Transformer \\narchitecture 7\\nLLM-powered AI agents 10\\nApplications of generative AI 16\\nChallenges and limitations of',\n",
       " 'Challenges and limitations of \\ngenerative AI 20\\nQuality of data and bias 21\\nData privacy 21\\nComputational resources 22\\nEthical and social implications 23\\nGeneralization and creativity 23\\nSummary 23',\n",
       " 'Generalization and creativity 23\\nSummary 23\\nQuestions 24\\nAnswers 24\\nFurther reading 24\\nReferences 24\\n2\\nPrinciples of Agentic Systems 27\\nTechnical requirements 28\\nUnderstanding self-governance,',\n",
       " 'Understanding self-governance, \\nagency, and autonomy 28\\nSelf-governance 29\\nAgency 29\\nAutonomy 30\\nExample of agency and autonomy in agents 32\\nReviewing intelligent agents and \\ntheir characteristics 35']"
      ]
     },
     "execution_count": 227,
     "metadata": {},
     "output_type": "execute_result"
    }
   ],
   "source": [
    "splitted_text[1:5]"
   ]
  },
  {
   "cell_type": "code",
   "execution_count": 228,
   "id": "e5dada72",
   "metadata": {},
   "outputs": [],
   "source": [
    "documents = [Document(page_content= page, metadata={'page': idx + 1}) for idx, page in enumerate(splitted_text)]"
   ]
  },
  {
   "cell_type": "code",
   "execution_count": 229,
   "id": "18f61263",
   "metadata": {},
   "outputs": [
    {
     "data": {
      "text/plain": [
       "list"
      ]
     },
     "execution_count": 229,
     "metadata": {},
     "output_type": "execute_result"
    }
   ],
   "source": [
    "type(documents)"
   ]
  },
  {
   "cell_type": "code",
   "execution_count": 230,
   "id": "a574ffbd",
   "metadata": {},
   "outputs": [
    {
     "data": {
      "text/plain": [
       "4107"
      ]
     },
     "execution_count": 230,
     "metadata": {},
     "output_type": "execute_result"
    }
   ],
   "source": [
    "len(documents)"
   ]
  },
  {
   "cell_type": "code",
   "execution_count": 231,
   "id": "c870667e",
   "metadata": {},
   "outputs": [
    {
     "data": {
      "text/plain": [
       "[Document(metadata={'page': 112}, page_content='books directly into your application.\\nThe perks don’t stop there, you can get exclusive access to discounts, newsletters, and great free content \\nin your inbox daily.'),\n",
       " Document(metadata={'page': 113}, page_content='in your inbox daily.\\nFollow these simple steps to get the benefits:\\n1. Scan the QR code or visit the link below\\nhttps://packt.link/free-ebook/9781803238753\\n2. Submit your proof of purchase'),\n",
       " Document(metadata={'page': 114}, page_content='2. Submit your proof of purchase\\n3. That’s it! We’ll send your free PDF and other benefits to your email directlyPart 1:  \\nFoundations of Generative AI \\nand Agentic Systems'),\n",
       " Document(metadata={'page': 115}, page_content='Foundations of Generative AI \\nand Agentic Systems\\nThis part establishes the fundamental concepts of generative AI and agentic systems, providing you')]"
      ]
     },
     "execution_count": 231,
     "metadata": {},
     "output_type": "execute_result"
    }
   ],
   "source": [
    "documents[111:115]"
   ]
  },
  {
   "cell_type": "code",
   "execution_count": 232,
   "id": "bd515e43",
   "metadata": {},
   "outputs": [],
   "source": [
    "embeddings_google = GoogleGenerativeAIEmbeddings(model=\"models/embedding-001\")"
   ]
  },
  {
   "cell_type": "code",
   "execution_count": 233,
   "id": "972248e5",
   "metadata": {},
   "outputs": [],
   "source": [
    "doc_embedding = embeddings_google.embed_documents(splitted_text)"
   ]
  },
  {
   "cell_type": "code",
   "execution_count": 234,
   "id": "ea38c8fb",
   "metadata": {},
   "outputs": [
    {
     "data": {
      "text/plain": [
       "768"
      ]
     },
     "execution_count": 234,
     "metadata": {},
     "output_type": "execute_result"
    }
   ],
   "source": [
    "len(doc_embedding[0])"
   ]
  },
  {
   "cell_type": "code",
   "execution_count": 235,
   "id": "73f090f7",
   "metadata": {},
   "outputs": [
    {
     "data": {
      "text/plain": [
       "4107"
      ]
     },
     "execution_count": 235,
     "metadata": {},
     "output_type": "execute_result"
    }
   ],
   "source": [
    "len(doc_embedding)"
   ]
  },
  {
   "cell_type": "code",
   "execution_count": 236,
   "id": "8e82108c",
   "metadata": {},
   "outputs": [],
   "source": [
    "query = 'what is agentic ai'\n",
    "embed_query = embeddings_google.embed_query(query)"
   ]
  },
  {
   "cell_type": "code",
   "execution_count": 237,
   "id": "ad4658e2",
   "metadata": {},
   "outputs": [
    {
     "data": {
      "text/plain": [
       "array([[0.66592274, 0.67545977, 0.59952191, ..., 0.5543564 , 0.53533525,\n",
       "        0.50260981]], shape=(1, 4107))"
      ]
     },
     "execution_count": 237,
     "metadata": {},
     "output_type": "execute_result"
    }
   ],
   "source": [
    "cosine_similarity([embed_query], doc_embedding)"
   ]
  },
  {
   "cell_type": "code",
   "execution_count": 238,
   "id": "30276563",
   "metadata": {},
   "outputs": [
    {
     "data": {
      "text/plain": [
       "array([[0.81740634, 0.80565443, 0.89496063, ..., 0.94407907, 0.96401627,\n",
       "        0.99738585]], shape=(1, 4107))"
      ]
     },
     "execution_count": 238,
     "metadata": {},
     "output_type": "execute_result"
    }
   ],
   "source": [
    "euclidean_distances([embed_query], doc_embedding)"
   ]
  },
  {
   "cell_type": "code",
   "execution_count": 239,
   "id": "d4abd48d",
   "metadata": {},
   "outputs": [],
   "source": [
    "from pinecone import Pinecone\n",
    "\n",
    "# Create client instance\n",
    "pc = Pinecone(api_key=PINECONE_API_KEY, environment=PINECONE_INDEX_ENVIRONMENT)"
   ]
  },
  {
   "cell_type": "code",
   "execution_count": 240,
   "id": "275c3ad6",
   "metadata": {},
   "outputs": [
    {
     "data": {
      "text/plain": [
       "True"
      ]
     },
     "execution_count": 240,
     "metadata": {},
     "output_type": "execute_result"
    }
   ],
   "source": [
    "pc.has_index(PINECONE_INDEX_NAME)"
   ]
  },
  {
   "cell_type": "code",
   "execution_count": 241,
   "id": "54ab47e6",
   "metadata": {},
   "outputs": [
    {
     "data": {
      "text/plain": [
       "768"
      ]
     },
     "execution_count": 241,
     "metadata": {},
     "output_type": "execute_result"
    }
   ],
   "source": [
    "embedding_dimension = len(doc_embedding[0])\n",
    "embedding_dimension"
   ]
  },
  {
   "cell_type": "code",
   "execution_count": 242,
   "id": "332717f8",
   "metadata": {},
   "outputs": [],
   "source": [
    "if not pc.has_index(PINECONE_INDEX_NAME):\n",
    "    pc.create_index(name=PINECONE_INDEX_NAME, \n",
    "                    dimension=embedding_dimension,\n",
    "                    metric='cosine',\n",
    "                    spec=ServerlessSpec(cloud=PINECONE_CLOUD, region=PINECONE_INDEX_ENVIRONMENT)\n",
    "                    )"
   ]
  },
  {
   "cell_type": "code",
   "execution_count": 243,
   "id": "bce8ec1b",
   "metadata": {},
   "outputs": [
    {
     "data": {
      "text/plain": [
       "True"
      ]
     },
     "execution_count": 243,
     "metadata": {},
     "output_type": "execute_result"
    }
   ],
   "source": [
    "pc.has_index(PINECONE_INDEX_NAME)"
   ]
  },
  {
   "cell_type": "code",
   "execution_count": 244,
   "id": "3784fd6c",
   "metadata": {},
   "outputs": [],
   "source": [
    "pc_index = pc.Index(PINECONE_INDEX_NAME)\n",
    "pinecone_vs = PineconeVectorStore(index=pc_index, embedding=embeddings_google)"
   ]
  },
  {
   "cell_type": "code",
   "execution_count": 245,
   "id": "6dcc802d",
   "metadata": {},
   "outputs": [
    {
     "name": "stdout",
     "output_type": "stream",
     "text": [
      "(self, index: 'Optional[Any]' = None, embedding: 'Optional[Embeddings]' = None, text_key: 'Optional[str]' = 'text', namespace: 'Optional[str]' = None, distance_strategy: 'Optional[DistanceStrategy]' = <DistanceStrategy.COSINE: 'COSINE'>, *, pinecone_api_key: 'Optional[str]' = None, index_name: 'Optional[str]' = None)\n"
     ]
    }
   ],
   "source": [
    "# help(PineconeVectorStore)\n",
    "# or\n",
    "from inspect import signature\n",
    "print(signature(PineconeVectorStore.__init__))\n"
   ]
  },
  {
   "cell_type": "code",
   "execution_count": 246,
   "id": "577d47cf",
   "metadata": {},
   "outputs": [],
   "source": [
    "from uuid import uuid4"
   ]
  },
  {
   "cell_type": "code",
   "execution_count": 247,
   "id": "eb754a65",
   "metadata": {},
   "outputs": [],
   "source": [
    "uuids = [str(uuid4()) for _ in range(len(documents))]"
   ]
  },
  {
   "cell_type": "code",
   "execution_count": 248,
   "id": "2a652dfa",
   "metadata": {},
   "outputs": [
    {
     "data": {
      "text/plain": [
       "list"
      ]
     },
     "execution_count": 248,
     "metadata": {},
     "output_type": "execute_result"
    }
   ],
   "source": [
    "type(uuids)"
   ]
  },
  {
   "cell_type": "code",
   "execution_count": 249,
   "id": "43e4bab8",
   "metadata": {},
   "outputs": [
    {
     "data": {
      "text/plain": [
       "list"
      ]
     },
     "execution_count": 249,
     "metadata": {},
     "output_type": "execute_result"
    }
   ],
   "source": [
    "type(uuids)"
   ]
  },
  {
   "cell_type": "code",
   "execution_count": 250,
   "id": "8609989b",
   "metadata": {},
   "outputs": [
    {
     "data": {
      "text/plain": [
       "4107"
      ]
     },
     "execution_count": 250,
     "metadata": {},
     "output_type": "execute_result"
    }
   ],
   "source": [
    "len(documents)"
   ]
  },
  {
   "cell_type": "code",
   "execution_count": 251,
   "id": "17a0293f",
   "metadata": {},
   "outputs": [],
   "source": [
    "# Commented this cell code to avoid duplicate record loading into the DB. This is working and essential code\n",
    "# batch_size = 500\n",
    "# start = 0\n",
    "# end = batch_size\n",
    "\n",
    "# while start < len(documents):\n",
    "#     if end > len(documents):\n",
    "#         end = len(documents)\n",
    "    \n",
    "#     temp_doc = documents[start:end]\n",
    "#     temp_uuids = uuids[start:end]\n",
    "\n",
    "#     pinecone_vs.add_documents(documents=documents[start:end], ids=uuids[start:end])\n",
    "\n",
    "#     start = end\n",
    "#     end = end + batch_size\n"
   ]
  },
  {
   "cell_type": "code",
   "execution_count": 252,
   "id": "1abbb71b",
   "metadata": {},
   "outputs": [
    {
     "data": {
      "text/plain": [
       "[Document(id='2249cb3a-b9c3-4e86-b0f7-714dfaabe1e9', metadata={'page': 3425.0}, page_content='that go beyond those of traditional generative AI. While generative AI primarily focuses on content \\ncreation, agentic systems can autonomously plan, decide, and act, making their safe deployment'),\n",
       " Document(id='36e707fc-c0e0-46b1-a713-186ce23f042c', metadata={'page': 3425.0}, page_content='that go beyond those of traditional generative AI. While generative AI primarily focuses on content \\ncreation, agentic systems can autonomously plan, decide, and act, making their safe deployment'),\n",
       " Document(id='83273843-3194-44c3-b869-78cd81c0aa47', metadata={'page': 486.0}, page_content='scenarios, and provide intelligent recommendations or automated decision-making capabilities. \\nAgentic AI systems have been applied in domains such as finance, healthcare, transportation,'),\n",
       " Document(id='2e59c31a-0f40-4721-ada8-efa2cdfe19f5', metadata={'page': 486.0}, page_content='scenarios, and provide intelligent recommendations or automated decision-making capabilities. \\nAgentic AI systems have been applied in domains such as finance, healthcare, transportation,'),\n",
       " Document(id='a4a80dc9-b971-4ec3-9dc2-a4f8443bc2c2', metadata={'page': 1155.0}, page_content='back into the learning mechanisms to refine the agent’s knowledge and decision models based \\non experience\\nStart building agentic AI')]"
      ]
     },
     "execution_count": 252,
     "metadata": {},
     "output_type": "execute_result"
    }
   ],
   "source": [
    "pinecone_vs.similarity_search(\"what is agentic ai\",k=5)"
   ]
  },
  {
   "cell_type": "code",
   "execution_count": 253,
   "id": "a24da8ba",
   "metadata": {},
   "outputs": [],
   "source": [
    "retriever = pinecone_vs.as_retriever(kwargs={'k':5})"
   ]
  },
  {
   "cell_type": "code",
   "execution_count": 254,
   "id": "0ccf9a47",
   "metadata": {},
   "outputs": [
    {
     "data": {
      "text/plain": [
       "[Document(id='2249cb3a-b9c3-4e86-b0f7-714dfaabe1e9', metadata={'page': 3425.0}, page_content='that go beyond those of traditional generative AI. While generative AI primarily focuses on content \\ncreation, agentic systems can autonomously plan, decide, and act, making their safe deployment'),\n",
       " Document(id='36e707fc-c0e0-46b1-a713-186ce23f042c', metadata={'page': 3425.0}, page_content='that go beyond those of traditional generative AI. While generative AI primarily focuses on content \\ncreation, agentic systems can autonomously plan, decide, and act, making their safe deployment'),\n",
       " Document(id='83273843-3194-44c3-b869-78cd81c0aa47', metadata={'page': 486.0}, page_content='scenarios, and provide intelligent recommendations or automated decision-making capabilities. \\nAgentic AI systems have been applied in domains such as finance, healthcare, transportation,'),\n",
       " Document(id='2e59c31a-0f40-4721-ada8-efa2cdfe19f5', metadata={'page': 486.0}, page_content='scenarios, and provide intelligent recommendations or automated decision-making capabilities. \\nAgentic AI systems have been applied in domains such as finance, healthcare, transportation,')]"
      ]
     },
     "execution_count": 254,
     "metadata": {},
     "output_type": "execute_result"
    }
   ],
   "source": [
    "context = retriever.invoke(\"what is agentic ai?\")\n",
    "context"
   ]
  },
  {
   "cell_type": "code",
   "execution_count": 255,
   "id": "f5c0c5eb",
   "metadata": {},
   "outputs": [
    {
     "data": {
      "text/plain": [
       "['that go beyond those of traditional generative AI. While generative AI primarily focuses on content \\ncreation, agentic systems can autonomously plan, decide, and act, making their safe deployment',\n",
       " 'that go beyond those of traditional generative AI. While generative AI primarily focuses on content \\ncreation, agentic systems can autonomously plan, decide, and act, making their safe deployment',\n",
       " 'scenarios, and provide intelligent recommendations or automated decision-making capabilities. \\nAgentic AI systems have been applied in domains such as finance, healthcare, transportation,',\n",
       " 'scenarios, and provide intelligent recommendations or automated decision-making capabilities. \\nAgentic AI systems have been applied in domains such as finance, healthcare, transportation,']"
      ]
     },
     "execution_count": 255,
     "metadata": {},
     "output_type": "execute_result"
    }
   ],
   "source": [
    "context = [doc.page_content for doc in context]\n",
    "context"
   ]
  },
  {
   "cell_type": "code",
   "execution_count": 256,
   "id": "2521d024",
   "metadata": {},
   "outputs": [
    {
     "data": {
      "text/plain": [
       "ChatGoogleGenerativeAI(model='models/gemini-1.5-flash', google_api_key=SecretStr('**********'), client=<google.ai.generativelanguage_v1beta.services.generative_service.client.GenerativeServiceClient object at 0x000002CFD8E92A20>, default_metadata=())"
      ]
     },
     "execution_count": 256,
     "metadata": {},
     "output_type": "execute_result"
    }
   ],
   "source": [
    "model = ChatGoogleGenerativeAI(model='gemini-1.5-flash')\n",
    "model"
   ]
  },
  {
   "cell_type": "code",
   "execution_count": 257,
   "id": "fcbc3a13",
   "metadata": {},
   "outputs": [
    {
     "data": {
      "text/plain": [
       "ChatPromptTemplate(input_variables=['context', 'question'], input_types={}, partial_variables={}, metadata={'lc_hub_owner': 'rlm', 'lc_hub_repo': 'rag-prompt', 'lc_hub_commit_hash': '50442af133e61576e74536c6556cefe1fac147cad032f4377b60c436e6cdcb6e'}, messages=[HumanMessagePromptTemplate(prompt=PromptTemplate(input_variables=['context', 'question'], input_types={}, partial_variables={}, template=\"You are an assistant for question-answering tasks. Use the following pieces of retrieved context to answer the question. If you don't know the answer, just say that you don't know. Use three sentences maximum and keep the answer concise.\\nQuestion: {question} \\nContext: {context} \\nAnswer:\"), additional_kwargs={})])"
      ]
     },
     "execution_count": 257,
     "metadata": {},
     "output_type": "execute_result"
    }
   ],
   "source": [
    "prompt = hub.pull('rlm/rag-prompt')\n",
    "prompt"
   ]
  },
  {
   "cell_type": "code",
   "execution_count": 258,
   "id": "3e095758",
   "metadata": {},
   "outputs": [
    {
     "data": {
      "text/plain": [
       "ChatPromptValue(messages=[HumanMessage(content=\"You are an assistant for question-answering tasks. Use the following pieces of retrieved context to answer the question. If you don't know the answer, just say that you don't know. Use three sentences maximum and keep the answer concise.\\nQuestion: what is agentic ai? \\nContext: langchain is very super framework for LLM. \\nAnswer:\", additional_kwargs={}, response_metadata={})])"
      ]
     },
     "execution_count": 258,
     "metadata": {},
     "output_type": "execute_result"
    }
   ],
   "source": [
    "prompt.invoke({'question':'what is agentic ai?', 'context': 'langchain is very super framework for LLM.'})"
   ]
  },
  {
   "cell_type": "code",
   "execution_count": 259,
   "id": "3633d352",
   "metadata": {},
   "outputs": [],
   "source": [
    "response = model.invoke(prompt.invoke({\n",
    "    'question': 'what is agentic ai?',\n",
    "    'context': context\n",
    "}))"
   ]
  },
  {
   "cell_type": "code",
   "execution_count": 260,
   "id": "573ae3d9",
   "metadata": {},
   "outputs": [
    {
     "data": {
      "text/plain": [
       "'Agentic AI goes beyond traditional generative AI by autonomously planning, deciding, and acting.  Unlike generative AI which focuses on content creation, agentic AI systems can make decisions and take actions.  Their safe deployment is a key consideration.'"
      ]
     },
     "execution_count": 260,
     "metadata": {},
     "output_type": "execute_result"
    }
   ],
   "source": [
    "response.content"
   ]
  },
  {
   "cell_type": "code",
   "execution_count": 261,
   "id": "188f35ab",
   "metadata": {},
   "outputs": [
    {
     "data": {
      "text/plain": [
       "'The output should be formatted as a JSON instance that conforms to the JSON schema below.\\n\\nAs an example, for the schema {\"properties\": {\"foo\": {\"title\": \"Foo\", \"description\": \"a list of strings\", \"type\": \"array\", \"items\": {\"type\": \"string\"}}}, \"required\": [\"foo\"]}\\nthe object {\"foo\": [\"bar\", \"baz\"]} is a well-formatted instance of the schema. The object {\"properties\": {\"foo\": [\"bar\", \"baz\"]}} is not well-formatted.\\n\\nHere is the output schema:\\n```\\n{\"properties\": {\"Topic\": {\"description\": \"selected topic\", \"title\": \"Topic\", \"type\": \"string\"}, \"Reasoning\": {\"description\": \"Reasoning behind the topic selection.\", \"title\": \"Reasoning\", \"type\": \"string\"}}, \"required\": [\"Topic\", \"Reasoning\"]}\\n```'"
      ]
     },
     "execution_count": 261,
     "metadata": {},
     "output_type": "execute_result"
    }
   ],
   "source": [
    "class TopicSelectionParser(BaseModel):\n",
    "    Topic: str = Field(description='selected topic')\n",
    "    Reasoning: str = Field(description='Reasoning behind the topic selection.')\n",
    "\n",
    "parser=PydanticOutputParser(pydantic_object=TopicSelectionParser)\n",
    "\n",
    "parser.get_format_instructions()"
   ]
  },
  {
   "cell_type": "code",
   "execution_count": 262,
   "id": "c09d7d6e",
   "metadata": {},
   "outputs": [],
   "source": [
    "class AgentState(TypedDict):\n",
    "    messages: Annotated[Sequence[BaseMessage], operator.add]\n",
    "    validation_passed: bool = False"
   ]
  },
  {
   "cell_type": "code",
   "execution_count": null,
   "id": "ff4a413d",
   "metadata": {},
   "outputs": [],
   "source": []
  },
  {
   "cell_type": "code",
   "execution_count": 263,
   "id": "1b21ff1c",
   "metadata": {},
   "outputs": [],
   "source": [
    "# rag function\n",
    "\n",
    "class TopicSelectionParser(BaseModel):\n",
    "    answer: str\n",
    "\n",
    "def format_docs(docs):\n",
    "    return '\\n\\n'.join(doc.page_content for doc in docs)    \n",
    "\n",
    "def rag(state: AgentState):\n",
    "    print(f\"[rag]: START: {state}\")\n",
    "\n",
    "    question = state['messages'][0].content\n",
    "    print(f\"question: {question}\")\n",
    "    \n",
    "    # prompt = PromptTemplate(\n",
    "    #                             template=\"\"\"You are an assistant for question-answering tasks. Use the following pieces of retrieved context to answer the question. If you don't know the answer, just say that you don't know. Use three sentences maximum and keep the answer concise.\\nQuestion: {question} \\nContext: {context} \\nAnswer:\"\"\",\n",
    "    #                             input_variables=['question', 'context']\n",
    "    #                         )\n",
    "    prompt = PromptTemplate(\n",
    "    input_variables=[\"context\", \"question\"],\n",
    "    template=\"\"\"\n",
    "                You are an assistant for question-answering tasks. Use the following context to answer the question.\n",
    "\n",
    "                Always respond **only** in the following JSON format:\n",
    "                {{\n",
    "                \"answer\": \"your concise answer here\"\n",
    "                }}\n",
    "\n",
    "                Context:\n",
    "                {context}\n",
    "\n",
    "                Question:\n",
    "                {question}\n",
    "                \"\"\"\n",
    "                )\n",
    "    print(f\"prompt: {prompt}\")\n",
    "\n",
    "    rag_chain = ({'context': retriever | format_docs, 'question': RunnablePassthrough()}\n",
    "                | prompt\n",
    "                | model\n",
    "                | PydanticOutputParser(pydantic_object=TopicSelectionParser))\n",
    "    # rag_chain = ({'context': retriever | format_docs, 'question': RunnablePassthrough()}\n",
    "    #         | prompt\n",
    "    #         | model)\n",
    "    print(f'rag_chain: {rag_chain}')\n",
    "    \n",
    "    response = rag_chain.invoke(question)\n",
    "    print(f\"response: {response}\")\n",
    "    \n",
    "    final_op = {\n",
    "            \"messages\": state[\"messages\"] + [SystemMessage(content=response.answer)],\n",
    "            \"validation_passed\": state.get(\"validation_passed\", False)\n",
    "        }\n",
    "    \n",
    "    print(f\"answer: {response.answer}\")\n",
    "    print(f\"[rag]: END: {state}\")\n",
    "    \n",
    "    return final_op\n"
   ]
  },
  {
   "cell_type": "code",
   "execution_count": 264,
   "id": "796ca278",
   "metadata": {},
   "outputs": [],
   "source": [
    "# LLM function\n",
    "\n",
    "def llm(state: AgentState):\n",
    "    print('inside llm node')\n",
    "    print(f\"[llm]: START: {state}\")\n",
    "\n",
    "    question = state['messages'][0].content\n",
    "    \n",
    "    print(f'question: {question}')\n",
    "\n",
    "    complete_query = \"Anwer the follow question with you knowledge of the real world. Following is the user question: \" + question\n",
    "    response = model.invoke(complete_query)\n",
    "\n",
    "    final_op = {\n",
    "            \"messages\": state[\"messages\"] + [SystemMessage(content=response.content)],\n",
    "            \"validation_passed\": state.get(\"validation_passed\", False)\n",
    "        }\n",
    "\n",
    "    print(f\"[llm]: END: {state}\")\n",
    "    print(f\"messages: {response}\")\n",
    "    print('EXIT from llm')\n",
    "\n",
    "    return final_op\n"
   ]
  },
  {
   "cell_type": "code",
   "execution_count": null,
   "id": "95220f58",
   "metadata": {},
   "outputs": [],
   "source": []
  },
  {
   "cell_type": "code",
   "execution_count": 265,
   "id": "762cbf82",
   "metadata": {},
   "outputs": [],
   "source": [
    "\n",
    "def validation_router(state: AgentState) -> AgentState:\n",
    "    print(f\"[validation_router]: START: {state}\")\n",
    "\n",
    "    # Perform validation\n",
    "    is_valid = True  # or your actual validation logic\n",
    "    state[\"validation_passed\"] = is_valid\n",
    "\n",
    "    state[\"messages\"].append(SystemMessage(content=f\"Validation passed: {is_valid}\"))\n",
    "\n",
    "    print(f\"validation_passed: {is_valid}\")\n",
    "    print(\"[validation_router]: END\")\n",
    "\n",
    "    return state\n",
    "\n",
    "def route_validation(state: AgentState) -> str:\n",
    "    return \"pass\" if state.get(\"validation_passed\") else \"fail\"\n"
   ]
  },
  {
   "cell_type": "code",
   "execution_count": 266,
   "id": "4bada9d9",
   "metadata": {},
   "outputs": [],
   "source": [
    "# router function: rag, llm, web\n",
    "\n",
    "def router(state: AgentState):\n",
    "    message = state['messages'][-1].content.lower()\n",
    "\n",
    "    if 'rag' in message:\n",
    "        return 'rag'\n",
    "    elif 'web' in message:\n",
    "        return 'web'\n",
    "    elif 'llm' in message:\n",
    "        return 'llm'\n",
    "    else:\n",
    "        raise ValueError(f\"Unexpected message in router: {message}\")"
   ]
  },
  {
   "cell_type": "code",
   "execution_count": 267,
   "id": "ec9b92f7",
   "metadata": {},
   "outputs": [],
   "source": [
    "# supervisor function\n",
    "def supervisor(state: AgentState):\n",
    "    print(f\"[supervisor]: START: {state}\")\n",
    "\n",
    "    question = state['messages'][0]\n",
    "\n",
    "    template = \"\"\"\n",
    "                You are a classification agent. Classify the following user question into one of the following categories ONLY:\n",
    "                [r​ag, llm, web]\n",
    "\n",
    "                **Definitions:**\n",
    "                - rag: The question can be better answered using retrieval from external knowledge or documents.\n",
    "                - llm: The question can be answered by the language model's own reasoning or general knowledge.\n",
    "                - web: The question requires fresh or current information from the internet.\n",
    "\n",
    "                You MUST answer with exactly one word: either rag, llm, or web.\n",
    "\n",
    "                User question: {question}\n",
    "                {format_instructions}\n",
    "                \"\"\"\n",
    "\n",
    "    prompt = PromptTemplate(\n",
    "        template=template,\n",
    "        input_variables=['question'],\n",
    "        partial_variables={'format_instructions': parser.get_format_instructions()}\n",
    "    )\n",
    "\n",
    "    chain = prompt | model | parser\n",
    "\n",
    "    response = chain.invoke({'question': question})\n",
    "    \n",
    "    final_op = {\n",
    "        \"messages\": state[\"messages\"] + [SystemMessage(content=response.Topic)],\n",
    "        \"validation_passed\": state.get(\"validation_passed\", False)\n",
    "    }\n",
    "\n",
    "    print(f\"messages: {response.Topic}\")\n",
    "    print(f'EXIT from supervisor')\n",
    "    print(f\"[supervisor]: END: {final_op}\")\n",
    "\n",
    "    return final_op\n"
   ]
  },
  {
   "cell_type": "code",
   "execution_count": 268,
   "id": "f0164d1d",
   "metadata": {},
   "outputs": [],
   "source": [
    "# # web function\n",
    "\n",
    "def web(state: AgentState):\n",
    "\n",
    "    print(f\"[web]: START: {state}\")\n",
    "\n",
    "    question = state['messages'][0].content\n",
    "    print(f'question: {question}')\n",
    "    \n",
    "    # question = state['messages']\n",
    "\n",
    "    search = DuckDuckGoSearchRun()\n",
    "\n",
    "    response = search.invoke(question)\n",
    "    print(f\"response: {response}\")\n",
    "    \n",
    "    final_op = {\n",
    "                \"messages\": state[\"messages\"] + [SystemMessage(content=response)],\n",
    "                \"validation_passed\": state.get(\"validation_passed\", False)\n",
    "            }\n",
    "    \n",
    "    print(f\"[web]: END: {state}\")\n",
    "    print(f\"messages: {response}\")\n",
    "\n",
    "    return final_op\n",
    "\n",
    "# ans = web({\n",
    "#     'messages': \"APJ Abdul Kalam's first name?\"\n",
    "# })"
   ]
  },
  {
   "cell_type": "code",
   "execution_count": 269,
   "id": "6fc0fefb",
   "metadata": {},
   "outputs": [
    {
     "data": {
      "image/png": "[encoded data removed]",
      "text/plain": [
       "<IPython.core.display.Image object>"
      ]
     },
     "metadata": {},
     "output_type": "display_data"
    }
   ],
   "source": [
    "workflow = StateGraph(AgentState)\n",
    "\n",
    "workflow.add_node('supervisor', supervisor)\n",
    "workflow.add_node('rag', rag)\n",
    "workflow.add_node('llm', llm)\n",
    "workflow.add_node('web', web)\n",
    "workflow.add_node('validation_router', validation_router)\n",
    "\n",
    "workflow.add_conditional_edges('supervisor', router, {\n",
    "    'rag': 'rag',\n",
    "    'web': 'web',\n",
    "    'llm': 'llm'\n",
    "})\n",
    "\n",
    "workflow.add_edge('rag', 'validation_router')\n",
    "workflow.add_edge('llm', 'validation_router')\n",
    "workflow.add_edge('web', 'validation_router')\n",
    "\n",
    "workflow.add_conditional_edges(\"validation_router\", route_validation, {\n",
    "    \"pass\": \"__end__\",\n",
    "    \"fail\": \"supervisor\"\n",
    "})\n",
    "\n",
    "workflow.set_entry_point('supervisor')\n",
    "workflow.add_edge(\"validation_router\", END)  # NOT set_finish_point('__end__')\n",
    "\n",
    "app = workflow.compile()\n",
    "display(Image(app.get_graph().draw_mermaid_png()))"
   ]
  },
  {
   "cell_type": "code",
   "execution_count": 273,
   "id": "166a569a",
   "metadata": {},
   "outputs": [
    {
     "name": "stdout",
     "output_type": "stream",
     "text": [
      "[supervisor]: START: {'messages': [HumanMessage(content=\"What's the current temperature in Pittsburg, USA now?\", additional_kwargs={}, response_metadata={})]}\n",
      "messages: web\n",
      "EXIT from supervisor\n",
      "[supervisor]: END: {'messages': [HumanMessage(content=\"What's the current temperature in Pittsburg, USA now?\", additional_kwargs={}, response_metadata={}), SystemMessage(content='web', additional_kwargs={}, response_metadata={})], 'validation_passed': False}\n",
      "[web]: START: {'messages': [HumanMessage(content=\"What's the current temperature in Pittsburg, USA now?\", additional_kwargs={}, response_metadata={}), HumanMessage(content=\"What's the current temperature in Pittsburg, USA now?\", additional_kwargs={}, response_metadata={}), SystemMessage(content='web', additional_kwargs={}, response_metadata={})], 'validation_passed': False}\n",
      "question: What's the current temperature in Pittsburg, USA now?\n",
      "response: The temperature will be between the lowest temperature of 69.8°F and the highest temperature of 84.2°F. The hottest part of the day will be at 3 pm and 4 pm. The temperature will be more alike with what's typical for July than the usual maximum in June. The minimum temperature will be also more comparable to July's average low of 63°F than ... Interested in weather and can't make an in person class? Check out our Basic SKYWARN Video Series on YouTube! Hazardous Weather Conditions. Hazardous Weather Outlook ; Current conditions at Pittsburgh International Airport (KPIT) Lat: 40.48°NLon: 80.21°WElev: 1203ft ... Today. High: 85 °F. T-storms Likely. Tonight. Low: 64 °F. T-storms ... The current weather in Pittsburgh PA as of 5:30 PM EDT on Sun Jun 8th 2025, has a sky condition of Light Rain with the visibility of 6 mile(s) and the UV index at 2.4. It is 69 degrees fahrenheit with a forecasted high of 69 and low of 62. Pittsburgh Weather Forecasts. Weather Underground provides local & long-range weather forecasts, weatherreports, maps & tropical weather conditions for the Pittsburgh area. Interested in weather and can't make an in person class? Check out our Basic SKYWARN Video Series on YouTube! Hazardous Weather Conditions. Hazardous Weather Outlook ; Current conditions at Pittsburgh/Butler Regional Airport (KBTP) Lat: 40.78°NLon: 79.96°WElev: 1248ft. Fair. 69°F. 21°C. ... Today. Scattered showers and thunderstorms, mainly ...\n",
      "[web]: END: {'messages': [HumanMessage(content=\"What's the current temperature in Pittsburg, USA now?\", additional_kwargs={}, response_metadata={}), HumanMessage(content=\"What's the current temperature in Pittsburg, USA now?\", additional_kwargs={}, response_metadata={}), SystemMessage(content='web', additional_kwargs={}, response_metadata={})], 'validation_passed': False}\n",
      "messages: The temperature will be between the lowest temperature of 69.8°F and the highest temperature of 84.2°F. The hottest part of the day will be at 3 pm and 4 pm. The temperature will be more alike with what's typical for July than the usual maximum in June. The minimum temperature will be also more comparable to July's average low of 63°F than ... Interested in weather and can't make an in person class? Check out our Basic SKYWARN Video Series on YouTube! Hazardous Weather Conditions. Hazardous Weather Outlook ; Current conditions at Pittsburgh International Airport (KPIT) Lat: 40.48°NLon: 80.21°WElev: 1203ft ... Today. High: 85 °F. T-storms Likely. Tonight. Low: 64 °F. T-storms ... The current weather in Pittsburgh PA as of 5:30 PM EDT on Sun Jun 8th 2025, has a sky condition of Light Rain with the visibility of 6 mile(s) and the UV index at 2.4. It is 69 degrees fahrenheit with a forecasted high of 69 and low of 62. Pittsburgh Weather Forecasts. Weather Underground provides local & long-range weather forecasts, weatherreports, maps & tropical weather conditions for the Pittsburgh area. Interested in weather and can't make an in person class? Check out our Basic SKYWARN Video Series on YouTube! Hazardous Weather Conditions. Hazardous Weather Outlook ; Current conditions at Pittsburgh/Butler Regional Airport (KBTP) Lat: 40.78°NLon: 79.96°WElev: 1248ft. Fair. 69°F. 21°C. ... Today. Scattered showers and thunderstorms, mainly ...\n",
      "[validation_router]: START: {'messages': [HumanMessage(content=\"What's the current temperature in Pittsburg, USA now?\", additional_kwargs={}, response_metadata={}), HumanMessage(content=\"What's the current temperature in Pittsburg, USA now?\", additional_kwargs={}, response_metadata={}), SystemMessage(content='web', additional_kwargs={}, response_metadata={}), HumanMessage(content=\"What's the current temperature in Pittsburg, USA now?\", additional_kwargs={}, response_metadata={}), HumanMessage(content=\"What's the current temperature in Pittsburg, USA now?\", additional_kwargs={}, response_metadata={}), SystemMessage(content='web', additional_kwargs={}, response_metadata={}), SystemMessage(content=\"The temperature will be between the lowest temperature of 69.8°F and the highest temperature of 84.2°F. The hottest part of the day will be at 3 pm and 4 pm. The temperature will be more alike with what's typical for July than the usual maximum in June. The minimum temperature will be also more comparable to July's average low of 63°F than ... Interested in weather and can't make an in person class? Check out our Basic SKYWARN Video Series on YouTube! Hazardous Weather Conditions. Hazardous Weather Outlook ; Current conditions at Pittsburgh International Airport (KPIT) Lat: 40.48°NLon: 80.21°WElev: 1203ft ... Today. High: 85 °F. T-storms Likely. Tonight. Low: 64 °F. T-storms ... The current weather in Pittsburgh PA as of 5:30 PM EDT on Sun Jun 8th 2025, has a sky condition of Light Rain with the visibility of 6 mile(s) and the UV index at 2.4. It is 69 degrees fahrenheit with a forecasted high of 69 and low of 62. Pittsburgh Weather Forecasts. Weather Underground provides local & long-range weather forecasts, weatherreports, maps & tropical weather conditions for the Pittsburgh area. Interested in weather and can't make an in person class? Check out our Basic SKYWARN Video Series on YouTube! Hazardous Weather Conditions. Hazardous Weather Outlook ; Current conditions at Pittsburgh/Butler Regional Airport (KBTP) Lat: 40.78°NLon: 79.96°WElev: 1248ft. Fair. 69°F. 21°C. ... Today. Scattered showers and thunderstorms, mainly ...\", additional_kwargs={}, response_metadata={})], 'validation_passed': False}\n",
      "validation_passed: True\n",
      "[validation_router]: END\n"
     ]
    }
   ],
   "source": [
    "# WEB: START->supervisor -> web -> validate -> END\n",
    "\n",
    "result = app.invoke({\n",
    "    \"messages\": [HumanMessage(content=\"What's the current temperature in Pittsburg, USA now?\")],\n",
    "    \"format_instructions\": \"Respond in 2 lines using clear, structured explanation.\"\n",
    "})"
   ]
  },
  {
   "cell_type": "code",
   "execution_count": 271,
   "id": "1fb97ac5",
   "metadata": {},
   "outputs": [
    {
     "name": "stdout",
     "output_type": "stream",
     "text": [
      "[supervisor]: START: {'messages': [HumanMessage(content='Tell me how GenAI is used in healthcare.', additional_kwargs={}, response_metadata={})]}\n",
      "messages: rag\n",
      "EXIT from supervisor\n",
      "[supervisor]: END: {'messages': [HumanMessage(content='Tell me how GenAI is used in healthcare.', additional_kwargs={}, response_metadata={}), SystemMessage(content='rag', additional_kwargs={}, response_metadata={})], 'validation_passed': False}\n",
      "[rag]: START: {'messages': [HumanMessage(content='Tell me how GenAI is used in healthcare.', additional_kwargs={}, response_metadata={}), HumanMessage(content='Tell me how GenAI is used in healthcare.', additional_kwargs={}, response_metadata={}), SystemMessage(content='rag', additional_kwargs={}, response_metadata={})], 'validation_passed': False}\n",
      "question: Tell me how GenAI is used in healthcare.\n",
      "prompt: input_variables=['context', 'question'] input_types={} partial_variables={} template='\\n                You are an assistant for question-answering tasks. Use the following context to answer the question.\\n\\n                Always respond **only** in the following JSON format:\\n                {{\\n                \"answer\": \"your concise answer here\"\\n                }}\\n\\n                Context:\\n                {context}\\n\\n                Question:\\n                {question}\\n                '\n",
      "rag_chain: first={\n",
      "  context: VectorStoreRetriever(tags=['PineconeVectorStore', 'GoogleGenerativeAIEmbeddings'], vectorstore=<langchain_pinecone.vectorstores.PineconeVectorStore object at 0x000002CFD56E98E0>, search_kwargs={})\n",
      "           | RunnableLambda(format_docs),\n",
      "  question: RunnablePassthrough()\n",
      "} middle=[PromptTemplate(input_variables=['context', 'question'], input_types={}, partial_variables={}, template='\\n                You are an assistant for question-answering tasks. Use the following context to answer the question.\\n\\n                Always respond **only** in the following JSON format:\\n                {{\\n                \"answer\": \"your concise answer here\"\\n                }}\\n\\n                Context:\\n                {context}\\n\\n                Question:\\n                {question}\\n                '), ChatGoogleGenerativeAI(model='models/gemini-1.5-flash', google_api_key=SecretStr('**********'), client=<google.ai.generativelanguage_v1beta.services.generative_service.client.GenerativeServiceClient object at 0x000002CFD8E92A20>, default_metadata=())] last=PydanticOutputParser(pydantic_object=<class '__main__.TopicSelectionParser'>)\n",
      "response: answer='Generative AI, such as WGANs, is used in medical imaging to create synthetic medical images for training diagnostic AI systems.  This expands and diversifies datasets for improved training.'\n",
      "answer: Generative AI, such as WGANs, is used in medical imaging to create synthetic medical images for training diagnostic AI systems.  This expands and diversifies datasets for improved training.\n",
      "[rag]: END: {'messages': [HumanMessage(content='Tell me how GenAI is used in healthcare.', additional_kwargs={}, response_metadata={}), HumanMessage(content='Tell me how GenAI is used in healthcare.', additional_kwargs={}, response_metadata={}), SystemMessage(content='rag', additional_kwargs={}, response_metadata={})], 'validation_passed': False}\n",
      "[validation_router]: START: {'messages': [HumanMessage(content='Tell me how GenAI is used in healthcare.', additional_kwargs={}, response_metadata={}), HumanMessage(content='Tell me how GenAI is used in healthcare.', additional_kwargs={}, response_metadata={}), SystemMessage(content='rag', additional_kwargs={}, response_metadata={}), HumanMessage(content='Tell me how GenAI is used in healthcare.', additional_kwargs={}, response_metadata={}), HumanMessage(content='Tell me how GenAI is used in healthcare.', additional_kwargs={}, response_metadata={}), SystemMessage(content='rag', additional_kwargs={}, response_metadata={}), SystemMessage(content='Generative AI, such as WGANs, is used in medical imaging to create synthetic medical images for training diagnostic AI systems.  This expands and diversifies datasets for improved training.', additional_kwargs={}, response_metadata={})], 'validation_passed': False}\n",
      "validation_passed: True\n",
      "[validation_router]: END\n"
     ]
    }
   ],
   "source": [
    "# RAG: START->supervisor -> rag -> validate -> END\n",
    "result = app.invoke({\n",
    "    \"messages\": [HumanMessage(content=\"Tell me how GenAI is used in healthcare.\")],\n",
    "    \"format_instructions\": \"Respond in 2 lines using clear, structured explanation.\"\n",
    "})"
   ]
  },
  {
   "cell_type": "code",
   "execution_count": 274,
   "id": "5b27d689",
   "metadata": {},
   "outputs": [
    {
     "name": "stdout",
     "output_type": "stream",
     "text": [
      "[supervisor]: START: {'messages': [HumanMessage(content='Do you think India will be able to develop there own LLM?', additional_kwargs={}, response_metadata={})]}\n",
      "messages: llm\n",
      "EXIT from supervisor\n",
      "[supervisor]: END: {'messages': [HumanMessage(content='Do you think India will be able to develop there own LLM?', additional_kwargs={}, response_metadata={}), SystemMessage(content='llm', additional_kwargs={}, response_metadata={})], 'validation_passed': False}\n",
      "inside llm node\n",
      "[llm]: START: {'messages': [HumanMessage(content='Do you think India will be able to develop there own LLM?', additional_kwargs={}, response_metadata={}), HumanMessage(content='Do you think India will be able to develop there own LLM?', additional_kwargs={}, response_metadata={}), SystemMessage(content='llm', additional_kwargs={}, response_metadata={})], 'validation_passed': False}\n",
      "question: Do you think India will be able to develop there own LLM?\n",
      "[llm]: END: {'messages': [HumanMessage(content='Do you think India will be able to develop there own LLM?', additional_kwargs={}, response_metadata={}), HumanMessage(content='Do you think India will be able to develop there own LLM?', additional_kwargs={}, response_metadata={}), SystemMessage(content='llm', additional_kwargs={}, response_metadata={})], 'validation_passed': False}\n",
      "messages: content=\"India has a strong potential to develop its own LLMs, but whether it will successfully create a truly *competitive* and *globally impactful* one is a more nuanced question.\\n\\n**Arguments for success:**\\n\\n* **Large and diverse language data:** India possesses a vast amount of data in multiple Indian languages, which is crucial for training LLMs.  This multilingual data gives India a unique advantage in developing models capable of handling diverse linguistic contexts.\\n* **Growing tech talent pool:** India has a large and rapidly growing pool of skilled engineers and researchers in computer science and artificial intelligence.  Many are already working in the field of LLMs, either in Indian companies or internationally.\\n* **Government support:** The Indian government is increasingly investing in AI and technology development, recognizing the strategic importance of LLMs.  This support could provide crucial resources and infrastructure.\\n* **Existing infrastructure:** India has a robust IT infrastructure and a growing cloud computing ecosystem, providing the necessary computational power for training and deploying LLMs.\\n* **Entrepreneurial spirit:**  The Indian startup ecosystem is vibrant, and there's a strong possibility of innovative companies emerging to tackle this challenge.\\n\\n**Arguments against immediate, complete success:**\\n\\n* **Computational resources:** Training state-of-the-art LLMs requires significant computational resources, which can be expensive and challenging to access, even with government support.  This could limit the scale and performance of early Indian LLMs.\\n* **Data quality and bias:**  While India has a lot of data, ensuring its quality and mitigating biases is crucial.  Addressing biases related to language, caste, gender, and region requires careful curation and processing.\\n* **Talent retention:**  Competition for top AI talent is fierce globally.  India needs to ensure it can retain its skilled professionals and attract international talent.\\n* **Infrastructure limitations:** While improving, access to high-speed internet and advanced computing infrastructure remains uneven across the country, potentially hindering broader participation and development.\\n* **Ethical considerations:**  Developing and deploying responsible AI is crucial.  India needs to establish robust ethical guidelines and regulations to prevent misuse and ensure fairness.\\n\\n\\nIn conclusion:  India *can* develop its own LLMs, and is likely already making progress.  However, creating a truly world-leading LLM that rivals the best from the US and China will require sustained investment, strategic planning, addressing the challenges mentioned above, and a focus on both technological advancement and ethical considerations.  It's a race, and success is not guaranteed, but the potential is certainly there.\" additional_kwargs={} response_metadata={'prompt_feedback': {'block_reason': 0, 'safety_ratings': []}, 'finish_reason': 'STOP', 'safety_ratings': []} id='run--998eb3de-6e98-4ef4-bf67-fe65e0a97b78-0' usage_metadata={'input_tokens': 33, 'output_tokens': 523, 'total_tokens': 556, 'input_token_details': {'cache_read': 0}}\n",
      "EXIT from llm\n",
      "[validation_router]: START: {'messages': [HumanMessage(content='Do you think India will be able to develop there own LLM?', additional_kwargs={}, response_metadata={}), HumanMessage(content='Do you think India will be able to develop there own LLM?', additional_kwargs={}, response_metadata={}), SystemMessage(content='llm', additional_kwargs={}, response_metadata={}), HumanMessage(content='Do you think India will be able to develop there own LLM?', additional_kwargs={}, response_metadata={}), HumanMessage(content='Do you think India will be able to develop there own LLM?', additional_kwargs={}, response_metadata={}), SystemMessage(content='llm', additional_kwargs={}, response_metadata={}), SystemMessage(content=\"India has a strong potential to develop its own LLMs, but whether it will successfully create a truly *competitive* and *globally impactful* one is a more nuanced question.\\n\\n**Arguments for success:**\\n\\n* **Large and diverse language data:** India possesses a vast amount of data in multiple Indian languages, which is crucial for training LLMs.  This multilingual data gives India a unique advantage in developing models capable of handling diverse linguistic contexts.\\n* **Growing tech talent pool:** India has a large and rapidly growing pool of skilled engineers and researchers in computer science and artificial intelligence.  Many are already working in the field of LLMs, either in Indian companies or internationally.\\n* **Government support:** The Indian government is increasingly investing in AI and technology development, recognizing the strategic importance of LLMs.  This support could provide crucial resources and infrastructure.\\n* **Existing infrastructure:** India has a robust IT infrastructure and a growing cloud computing ecosystem, providing the necessary computational power for training and deploying LLMs.\\n* **Entrepreneurial spirit:**  The Indian startup ecosystem is vibrant, and there's a strong possibility of innovative companies emerging to tackle this challenge.\\n\\n**Arguments against immediate, complete success:**\\n\\n* **Computational resources:** Training state-of-the-art LLMs requires significant computational resources, which can be expensive and challenging to access, even with government support.  This could limit the scale and performance of early Indian LLMs.\\n* **Data quality and bias:**  While India has a lot of data, ensuring its quality and mitigating biases is crucial.  Addressing biases related to language, caste, gender, and region requires careful curation and processing.\\n* **Talent retention:**  Competition for top AI talent is fierce globally.  India needs to ensure it can retain its skilled professionals and attract international talent.\\n* **Infrastructure limitations:** While improving, access to high-speed internet and advanced computing infrastructure remains uneven across the country, potentially hindering broader participation and development.\\n* **Ethical considerations:**  Developing and deploying responsible AI is crucial.  India needs to establish robust ethical guidelines and regulations to prevent misuse and ensure fairness.\\n\\n\\nIn conclusion:  India *can* develop its own LLMs, and is likely already making progress.  However, creating a truly world-leading LLM that rivals the best from the US and China will require sustained investment, strategic planning, addressing the challenges mentioned above, and a focus on both technological advancement and ethical considerations.  It's a race, and success is not guaranteed, but the potential is certainly there.\", additional_kwargs={}, response_metadata={})], 'validation_passed': False}\n",
      "validation_passed: True\n",
      "[validation_router]: END\n"
     ]
    }
   ],
   "source": [
    "# LLM: START->supervisor -> LLM -> validate -> END\n",
    "\n",
    "result = app.invoke({\n",
    "    \"messages\": [HumanMessage(content=\"Do you think India will be able to develop there own LLM?\")],\n",
    "    \"format_instructions\": \"Respond in 2 lines using clear, structured explanation.\"\n",
    "})"
   ]
  },
  {
   "cell_type": "code",
   "execution_count": null,
   "id": "96c53257",
   "metadata": {},
   "outputs": [],
   "source": []
  },
  {
   "cell_type": "code",
   "execution_count": null,
   "id": "fef48ea2",
   "metadata": {},
   "outputs": [],
   "source": []
  }
 ],
 "metadata": {
  "kernelspec": {
   "display_name": "Python 3",
   "language": "python",
   "name": "python3"
  },
  "language_info": {
   "codemirror_mode": {
    "name": "ipython",
    "version": 3
   },
   "file_extension": ".py",
   "mimetype": "text/x-python",
   "name": "python",
   "nbconvert_exporter": "python",
   "pygments_lexer": "ipython3",
   "version": "3.12.11"
  }
 },
 "nbformat": 4,
 "nbformat_minor": 5
}
